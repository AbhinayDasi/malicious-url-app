{
 "cells": [
  {
   "cell_type": "code",
   "execution_count": 1,
   "id": "11e404d4-6911-48bb-b90a-0337b74dedfe",
   "metadata": {},
   "outputs": [],
   "source": [
    "import pandas as pd\n",
    "import re\n",
    "from sklearn.model_selection import train_test_split\n",
    "from sklearn.feature_extraction.text import TfidfVectorizer\n",
    "from sklearn.linear_model import LogisticRegression\n",
    "from sklearn.metrics import accuracy_score\n",
    "import joblib\n"
   ]
  },
  {
   "cell_type": "code",
   "execution_count": 2,
   "id": "e6d93dc1-84fd-4216-bf8b-dbc801044f44",
   "metadata": {},
   "outputs": [],
   "source": [
    "df = pd.read_csv(\"malicious_phish.csv\") "
   ]
  },
  {
   "cell_type": "code",
   "execution_count": 3,
   "id": "fb56116e-97a6-4242-96f9-7b671643b099",
   "metadata": {},
   "outputs": [],
   "source": [
    "def clean_url(url):\n",
    "    url = re.sub(r'https?://', '', url)\n",
    "    url = re.sub(r'www\\.', '', url)\n",
    "    return url"
   ]
  },
  {
   "cell_type": "code",
   "execution_count": 4,
   "id": "187711d7-e3fe-4491-accb-efb8dac9571b",
   "metadata": {},
   "outputs": [],
   "source": [
    "df['url'] = df['url'].apply(clean_url)"
   ]
  },
  {
   "cell_type": "code",
   "execution_count": 5,
   "id": "42c96c1e-39dd-45cb-9c79-ab861883360f",
   "metadata": {},
   "outputs": [],
   "source": [
    "# Step 3: Label Mapping (malicious = 1, benign = 0)\n",
    "df['label'] = df['type'].apply(lambda x: 0 if x == 'benign' else 1)"
   ]
  },
  {
   "cell_type": "code",
   "execution_count": 6,
   "id": "9fe418ef-98a2-426e-9ff9-8da2ef4d7e25",
   "metadata": {},
   "outputs": [],
   "source": [
    "# Step 4: Use sample to speed up training\n",
    "df = df.sample(n=30000, random_state=42)  # Reduce size for quick testing"
   ]
  },
  {
   "cell_type": "code",
   "execution_count": 7,
   "id": "c86ec878-ab17-4a8c-9b21-5b2fbf62fbba",
   "metadata": {},
   "outputs": [],
   "source": [
    "# Step 5: Feature Extraction (limit features for speed)\n",
    "vectorizer = TfidfVectorizer(max_features=5000)\n",
    "X = vectorizer.fit_transform(df['url'])\n",
    "y = df['label']"
   ]
  },
  {
   "cell_type": "code",
   "execution_count": 8,
   "id": "696c794b-2b72-4c84-b311-dbe4df49550b",
   "metadata": {},
   "outputs": [],
   "source": [
    "# Step 6: Train/Test Split\n",
    "X_train, X_test, y_train, y_test = train_test_split(X, y, test_size=0.2, random_state=42)"
   ]
  },
  {
   "cell_type": "code",
   "execution_count": 9,
   "id": "ca597951-8d64-41a8-9ae2-9f9d0b00821c",
   "metadata": {},
   "outputs": [
    {
     "data": {
      "text/html": [
       "<style>#sk-container-id-1 {color: black;background-color: white;}#sk-container-id-1 pre{padding: 0;}#sk-container-id-1 div.sk-toggleable {background-color: white;}#sk-container-id-1 label.sk-toggleable__label {cursor: pointer;display: block;width: 100%;margin-bottom: 0;padding: 0.3em;box-sizing: border-box;text-align: center;}#sk-container-id-1 label.sk-toggleable__label-arrow:before {content: \"▸\";float: left;margin-right: 0.25em;color: #696969;}#sk-container-id-1 label.sk-toggleable__label-arrow:hover:before {color: black;}#sk-container-id-1 div.sk-estimator:hover label.sk-toggleable__label-arrow:before {color: black;}#sk-container-id-1 div.sk-toggleable__content {max-height: 0;max-width: 0;overflow: hidden;text-align: left;background-color: #f0f8ff;}#sk-container-id-1 div.sk-toggleable__content pre {margin: 0.2em;color: black;border-radius: 0.25em;background-color: #f0f8ff;}#sk-container-id-1 input.sk-toggleable__control:checked~div.sk-toggleable__content {max-height: 200px;max-width: 100%;overflow: auto;}#sk-container-id-1 input.sk-toggleable__control:checked~label.sk-toggleable__label-arrow:before {content: \"▾\";}#sk-container-id-1 div.sk-estimator input.sk-toggleable__control:checked~label.sk-toggleable__label {background-color: #d4ebff;}#sk-container-id-1 div.sk-label input.sk-toggleable__control:checked~label.sk-toggleable__label {background-color: #d4ebff;}#sk-container-id-1 input.sk-hidden--visually {border: 0;clip: rect(1px 1px 1px 1px);clip: rect(1px, 1px, 1px, 1px);height: 1px;margin: -1px;overflow: hidden;padding: 0;position: absolute;width: 1px;}#sk-container-id-1 div.sk-estimator {font-family: monospace;background-color: #f0f8ff;border: 1px dotted black;border-radius: 0.25em;box-sizing: border-box;margin-bottom: 0.5em;}#sk-container-id-1 div.sk-estimator:hover {background-color: #d4ebff;}#sk-container-id-1 div.sk-parallel-item::after {content: \"\";width: 100%;border-bottom: 1px solid gray;flex-grow: 1;}#sk-container-id-1 div.sk-label:hover label.sk-toggleable__label {background-color: #d4ebff;}#sk-container-id-1 div.sk-serial::before {content: \"\";position: absolute;border-left: 1px solid gray;box-sizing: border-box;top: 0;bottom: 0;left: 50%;z-index: 0;}#sk-container-id-1 div.sk-serial {display: flex;flex-direction: column;align-items: center;background-color: white;padding-right: 0.2em;padding-left: 0.2em;position: relative;}#sk-container-id-1 div.sk-item {position: relative;z-index: 1;}#sk-container-id-1 div.sk-parallel {display: flex;align-items: stretch;justify-content: center;background-color: white;position: relative;}#sk-container-id-1 div.sk-item::before, #sk-container-id-1 div.sk-parallel-item::before {content: \"\";position: absolute;border-left: 1px solid gray;box-sizing: border-box;top: 0;bottom: 0;left: 50%;z-index: -1;}#sk-container-id-1 div.sk-parallel-item {display: flex;flex-direction: column;z-index: 1;position: relative;background-color: white;}#sk-container-id-1 div.sk-parallel-item:first-child::after {align-self: flex-end;width: 50%;}#sk-container-id-1 div.sk-parallel-item:last-child::after {align-self: flex-start;width: 50%;}#sk-container-id-1 div.sk-parallel-item:only-child::after {width: 0;}#sk-container-id-1 div.sk-dashed-wrapped {border: 1px dashed gray;margin: 0 0.4em 0.5em 0.4em;box-sizing: border-box;padding-bottom: 0.4em;background-color: white;}#sk-container-id-1 div.sk-label label {font-family: monospace;font-weight: bold;display: inline-block;line-height: 1.2em;}#sk-container-id-1 div.sk-label-container {text-align: center;}#sk-container-id-1 div.sk-container {/* jupyter's `normalize.less` sets `[hidden] { display: none; }` but bootstrap.min.css set `[hidden] { display: none !important; }` so we also need the `!important` here to be able to override the default hidden behavior on the sphinx rendered scikit-learn.org. See: https://github.com/scikit-learn/scikit-learn/issues/21755 */display: inline-block !important;position: relative;}#sk-container-id-1 div.sk-text-repr-fallback {display: none;}</style><div id=\"sk-container-id-1\" class=\"sk-top-container\"><div class=\"sk-text-repr-fallback\"><pre>LogisticRegression(max_iter=200)</pre><b>In a Jupyter environment, please rerun this cell to show the HTML representation or trust the notebook. <br />On GitHub, the HTML representation is unable to render, please try loading this page with nbviewer.org.</b></div><div class=\"sk-container\" hidden><div class=\"sk-item\"><div class=\"sk-estimator sk-toggleable\"><input class=\"sk-toggleable__control sk-hidden--visually\" id=\"sk-estimator-id-1\" type=\"checkbox\" checked><label for=\"sk-estimator-id-1\" class=\"sk-toggleable__label sk-toggleable__label-arrow\">LogisticRegression</label><div class=\"sk-toggleable__content\"><pre>LogisticRegression(max_iter=200)</pre></div></div></div></div></div>"
      ],
      "text/plain": [
       "LogisticRegression(max_iter=200)"
      ]
     },
     "execution_count": 9,
     "metadata": {},
     "output_type": "execute_result"
    }
   ],
   "source": [
    "# Step 7: Train Faster Model (Logistic Regression)\n",
    "model = LogisticRegression(max_iter=200)\n",
    "model.fit(X_train, y_train)"
   ]
  },
  {
   "cell_type": "code",
   "execution_count": 10,
   "id": "a9056340-92db-4043-b1c0-e090fec08873",
   "metadata": {},
   "outputs": [
    {
     "name": "stdout",
     "output_type": "stream",
     "text": [
      "\n",
      "✅ Model Accuracy: 87.43%\n"
     ]
    }
   ],
   "source": [
    "# Step 8: Evaluate\n",
    "y_pred = model.predict(X_test)\n",
    "accuracy = accuracy_score(y_test, y_pred)\n",
    "print(f\"\\n✅ Model Accuracy: {accuracy * 100:.2f}%\")"
   ]
  },
  {
   "cell_type": "code",
   "execution_count": 11,
   "id": "e96f27fe-6717-48dc-8198-b6b539cc11a9",
   "metadata": {},
   "outputs": [
    {
     "data": {
      "text/plain": [
       "['malicious_url_model.pkl']"
      ]
     },
     "execution_count": 11,
     "metadata": {},
     "output_type": "execute_result"
    }
   ],
   "source": [
    "# Step 9: Save model + vectorizer\n",
    "joblib.dump((vectorizer, model), \"malicious_url_model.pkl\")"
   ]
  },
  {
   "cell_type": "code",
   "execution_count": 12,
   "id": "d9eb98b8-ecb7-4718-a2a8-fcb5afa02a24",
   "metadata": {},
   "outputs": [],
   "source": [
    "# Step 10: Real-time Prediction\n",
    "def predict_url(input_url):\n",
    "    clean = clean_url(input_url)\n",
    "    features = vectorizer.transform([clean])\n",
    "    result = model.predict(features)[0]\n",
    "    return \"Malicious\" if result == 1 else \"Safe\"\n"
   ]
  },
  {
   "cell_type": "code",
   "execution_count": 13,
   "id": "2fdf03c1-a0d7-4501-b738-e3451a917a55",
   "metadata": {},
   "outputs": [
    {
     "name": "stdin",
     "output_type": "stream",
     "text": [
      "\n",
      "🔍 Enter a URL to check (or type 'exit' to quit):  http://freemoney.ru/login\n"
     ]
    },
    {
     "name": "stdout",
     "output_type": "stream",
     "text": [
      "Result: The URL is likely ➤ Malicious\n"
     ]
    },
    {
     "name": "stdin",
     "output_type": "stream",
     "text": [
      "\n",
      "🔍 Enter a URL to check (or type 'exit' to quit):  https://testphp.vulnweb.com/\n"
     ]
    },
    {
     "name": "stdout",
     "output_type": "stream",
     "text": [
      "Result: The URL is likely ➤ Safe\n"
     ]
    },
    {
     "name": "stdin",
     "output_type": "stream",
     "text": [
      "\n",
      "🔍 Enter a URL to check (or type 'exit' to quit):  exit\n"
     ]
    }
   ],
   "source": [
    "# Step 11: Run Checker\n",
    "while True:\n",
    "    test_url = input(\"\\n🔍 Enter a URL to check (or type 'exit' to quit): \")\n",
    "    if test_url.lower() == 'exit':\n",
    "        break\n",
    "    prediction = predict_url(test_url)\n",
    "    print(f\"Result: The URL is likely ➤ {prediction}\")"
   ]
  },
  {
   "cell_type": "code",
   "execution_count": null,
   "id": "8bc2e89e-e9e9-4b62-b0a2-4737ab9e5abc",
   "metadata": {},
   "outputs": [],
   "source": []
  }
 ],
 "metadata": {
  "kernelspec": {
   "display_name": "Python 3 (ipykernel)",
   "language": "python",
   "name": "python3"
  },
  "language_info": {
   "codemirror_mode": {
    "name": "ipython",
    "version": 3
   },
   "file_extension": ".py",
   "mimetype": "text/x-python",
   "name": "python",
   "nbconvert_exporter": "python",
   "pygments_lexer": "ipython3",
   "version": "3.11.7"
  }
 },
 "nbformat": 4,
 "nbformat_minor": 5
}
